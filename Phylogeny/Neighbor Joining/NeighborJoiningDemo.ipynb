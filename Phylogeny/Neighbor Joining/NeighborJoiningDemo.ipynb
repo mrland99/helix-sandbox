{
 "cells": [
  {
   "cell_type": "code",
   "execution_count": 1,
   "metadata": {},
   "outputs": [],
   "source": [
    "from NeighborJoining import neighborJoining\n",
    "from PhylogenyHelperFunctions import printPhylogenyTree\n",
    "import numpy as np"
   ]
  },
  {
   "cell_type": "code",
   "execution_count": 2,
   "metadata": {},
   "outputs": [
    {
     "name": "stdout",
     "output_type": "stream",
     "text": [
      "[[ 0 23 27 20]\n",
      " [23  0 30 28]\n",
      " [27 30  0 30]\n",
      " [20 28 30  0]]\n"
     ]
    }
   ],
   "source": [
    "D = np.array([[0, 23, 27, 20], [23, 0, 30, 28], [27, 30, 0, 30], [20,28,30, 0]])\n",
    "print(D)"
   ]
  },
  {
   "cell_type": "code",
   "execution_count": 3,
   "metadata": {},
   "outputs": [
    {
     "name": "stdout",
     "output_type": "stream",
     "text": [
      "0->4:8.0\n",
      "1->5:13.5\n",
      "2->5:16.5\n",
      "3->4:12.0\n",
      "4->0:8.0\n",
      "4->3:12.0\n",
      "4->5:2.0\n",
      "5->1:13.5\n",
      "5->2:16.5\n",
      "5->4:2.0\n"
     ]
    }
   ],
   "source": [
    "t, w, v = neighborJoining(D, 4)\n",
    "printPhylogenyTree(t, w)"
   ]
  }
 ],
 "metadata": {
  "kernelspec": {
   "display_name": "Python 3",
   "language": "python",
   "name": "python3"
  },
  "language_info": {
   "codemirror_mode": {
    "name": "ipython",
    "version": 3
   },
   "file_extension": ".py",
   "mimetype": "text/x-python",
   "name": "python",
   "nbconvert_exporter": "python",
   "pygments_lexer": "ipython3",
   "version": "3.7.1"
  }
 },
 "nbformat": 4,
 "nbformat_minor": 2
}
