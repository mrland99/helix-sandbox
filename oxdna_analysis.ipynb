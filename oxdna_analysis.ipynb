{
  "nbformat": 4,
  "nbformat_minor": 0,
  "metadata": {
    "colab": {
      "provenance": [],
      "machine_shape": "hm",
      "authorship_tag": "ABX9TyP8uZyJm7n7pMDIyoXWJm0F",
      "include_colab_link": true
    },
    "kernelspec": {
      "name": "python3",
      "display_name": "Python 3"
    },
    "language_info": {
      "name": "python"
    },
    "accelerator": "TPU",
    "gpuClass": "standard"
  },
  "cells": [
    {
      "cell_type": "markdown",
      "metadata": {
        "id": "view-in-github",
        "colab_type": "text"
      },
      "source": [
        "<a href=\"https://colab.research.google.com/github/mrland99/helix-sandbox/blob/master/oxdna_analysis.ipynb\" target=\"_parent\"><img src=\"https://colab.research.google.com/assets/colab-badge.svg\" alt=\"Open In Colab\"/></a>"
      ]
    },
    {
      "cell_type": "code",
      "source": [
        "from psutil import virtual_memory\n",
        "from os import cpu_count\n",
        "colab_pro = virtual_memory().total / 1e9\n",
        "print('Your runtime has {:.1f} gigabytes of available RAM\\n'.format(colab_pro))\n",
        "print('Your runtime has {} cpus.'.format(cpu_count()))"
      ],
      "metadata": {
        "colab": {
          "base_uri": "https://localhost:8080/"
        },
        "id": "DY9fqTuqPmtY",
        "outputId": "cf5f8334-7e9d-4099-864f-5122f30e0d0b"
      },
      "execution_count": null,
      "outputs": [
        {
          "output_type": "stream",
          "name": "stdout",
          "text": [
            "Your runtime has 37.8 gigabytes of available RAM\n",
            "\n",
            "Your runtime has 40 cpus.\n"
          ]
        }
      ]
    },
    {
      "cell_type": "code",
      "source": [
        "# Install \n",
        "!curl https://bootstrap.pypa.io/get-pip.py -o get-pip.py\n",
        "!python3 get-pip.py --force-reinstall"
      ],
      "metadata": {
        "colab": {
          "base_uri": "https://localhost:8080/"
        },
        "id": "vSKHq4hXPrb4",
        "outputId": "3b67f0e3-057d-4195-cf63-b26698d2b473"
      },
      "execution_count": null,
      "outputs": [
        {
          "output_type": "stream",
          "name": "stdout",
          "text": [
            "  % Total    % Received % Xferd  Average Speed   Time    Time     Time  Current\n",
            "                                 Dload  Upload   Total   Spent    Left  Speed\n",
            "\r  0     0    0     0    0     0      0      0 --:--:-- --:--:-- --:--:--     0\r  8 2509k    8  207k    0     0  1852k      0  0:00:01 --:--:--  0:00:01 1836k\r100 2509k  100 2509k    0     0  16.1M      0 --:--:-- --:--:-- --:--:-- 16.0M\n",
            "Looking in indexes: https://pypi.org/simple, https://us-python.pkg.dev/colab-wheels/public/simple/\n",
            "Collecting pip\n",
            "  Using cached pip-22.3.1-py3-none-any.whl (2.1 MB)\n",
            "Installing collected packages: pip\n",
            "  Attempting uninstall: pip\n",
            "    Found existing installation: pip 22.3.1\n",
            "    Uninstalling pip-22.3.1:\n",
            "      Successfully uninstalled pip-22.3.1\n",
            "Successfully installed pip-22.3.1\n",
            "\u001b[33mWARNING: Running pip as the 'root' user can result in broken permissions and conflicting behaviour with the system package manager. It is recommended to use a virtual environment instead: https://pip.pypa.io/warnings/venv\u001b[0m\u001b[33m\n",
            "\u001b[0m"
          ]
        }
      ]
    },
    {
      "cell_type": "code",
      "source": [
        "# Check python version\n",
        "import sys\n",
        "print(sys.version)\n",
        "!python3 --version\n",
        "!python --version"
      ],
      "metadata": {
        "colab": {
          "base_uri": "https://localhost:8080/"
        },
        "id": "SnS-DrJnPwb5",
        "outputId": "aa50aa15-7e8d-468e-9ed4-45b31869f5aa"
      },
      "execution_count": null,
      "outputs": [
        {
          "output_type": "stream",
          "name": "stdout",
          "text": [
            "3.8.16 (default, Dec  7 2022, 01:12:13) \n",
            "[GCC 7.5.0]\n",
            "Python 3.8.16\n",
            "Python 3.8.16\n"
          ]
        }
      ]
    },
    {
      "cell_type": "code",
      "source": [
        "# Installing oxDNA as a seperate folder. \n",
        "!git clone https://github.com/lorenzo-rovigatti/oxDNA\n",
        "%cd oxDNA\n",
        "%mkdir build\n",
        "%cd build\n",
        "!cmake .. -DPython=ON -DOxpySystemInstall=On  #dropping the -DCUDA=ON to make it build a lot faster. Use the flag while using GPU in runtime.\n",
        "!make -j4\n",
        "!make install\n",
        "%time"
      ],
      "metadata": {
        "id": "xMuoMIAASFsy"
      },
      "execution_count": null,
      "outputs": []
    },
    {
      "cell_type": "code",
      "source": [
        "# Check if oxDNA Analysis Tool (OAT) works?\n",
        "!oat config"
      ],
      "metadata": {
        "id": "ORe6zvXLQ6O5"
      },
      "execution_count": null,
      "outputs": []
    },
    {
      "cell_type": "code",
      "source": [
        "# Correcting numpy binary incompatibility!\n",
        "!python -m pip install /content/oxDNA/analysis --no-build-isolation"
      ],
      "metadata": {
        "id": "YDfKzjaKQ6XA"
      },
      "execution_count": null,
      "outputs": []
    },
    {
      "cell_type": "code",
      "source": [
        "!make test_oxpy"
      ],
      "metadata": {
        "id": "XTzDpprhQ6fS"
      },
      "execution_count": null,
      "outputs": []
    },
    {
      "cell_type": "code",
      "source": [
        "# Append PATH for OAT \n",
        "import sys\n",
        "sys.path.append(\"/usr/local/lib/python3.8/dist-packages\")  "
      ],
      "metadata": {
        "id": "fsn_3IwtagDo"
      },
      "execution_count": null,
      "outputs": []
    },
    {
      "cell_type": "code",
      "source": [
        "! echo $PYTHONPATH\n",
        "%env PYTHONPATH=\"$/env/python:/usr/local/lib/python3.9/dist-packages/\"\n",
        "! echo $PYTHONPATH"
      ],
      "metadata": {
        "colab": {
          "base_uri": "https://localhost:8080/"
        },
        "id": "xfvozQzyalnv",
        "outputId": "5f834a09-d493-467b-cac7-3acfc2136ae8"
      },
      "execution_count": null,
      "outputs": [
        {
          "output_type": "stream",
          "name": "stdout",
          "text": [
            "/env/python\n",
            "env: PYTHONPATH=\"$/env/python:/usr/local/lib/python3.9/dist-packages/\"\n",
            "\"$/env/python:/usr/local/lib/python3.9/dist-packages/\"\n"
          ]
        }
      ]
    },
    {
      "cell_type": "code",
      "source": [
        "# Mount KanoTX Drive, and Shared Folder for Simulation Data\n",
        "from google.colab import drive\n",
        "drive.mount('/content/drive')\n",
        "     "
      ],
      "metadata": {
        "colab": {
          "base_uri": "https://localhost:8080/"
        },
        "id": "5QEvVq6Cam9F",
        "outputId": "29e70713-9f5c-40e2-8ce0-19d0c09d1990"
      },
      "execution_count": null,
      "outputs": [
        {
          "output_type": "stream",
          "name": "stdout",
          "text": [
            "Drive already mounted at /content/drive; to attempt to forcibly remount, call drive.mount(\"/content/drive\", force_remount=True).\n"
          ]
        }
      ]
    },
    {
      "cell_type": "code",
      "source": [
        "# Getting Code Execution Time\n",
        "!pip install ipython-autotime"
      ],
      "metadata": {
        "id": "rdz4BGnjarA7",
        "colab": {
          "base_uri": "https://localhost:8080/"
        },
        "outputId": "8f82fc94-e770-4cf9-c752-8b8494b62fd7"
      },
      "execution_count": null,
      "outputs": [
        {
          "output_type": "stream",
          "name": "stdout",
          "text": [
            "Looking in indexes: https://pypi.org/simple, https://us-python.pkg.dev/colab-wheels/public/simple/\n",
            "Requirement already satisfied: ipython-autotime in /usr/local/lib/python3.8/dist-packages (0.3.1)\n",
            "Requirement already satisfied: ipython in /usr/local/lib/python3.8/dist-packages (from ipython-autotime) (7.9.0)\n",
            "Requirement already satisfied: setuptools>=18.5 in /usr/local/lib/python3.8/dist-packages (from ipython->ipython-autotime) (57.4.0)\n",
            "Requirement already satisfied: pickleshare in /usr/local/lib/python3.8/dist-packages (from ipython->ipython-autotime) (0.7.5)\n",
            "Requirement already satisfied: pygments in /usr/local/lib/python3.8/dist-packages (from ipython->ipython-autotime) (2.6.1)\n",
            "Requirement already satisfied: backcall in /usr/local/lib/python3.8/dist-packages (from ipython->ipython-autotime) (0.2.0)\n",
            "Requirement already satisfied: prompt-toolkit<2.1.0,>=2.0.0 in /usr/local/lib/python3.8/dist-packages (from ipython->ipython-autotime) (2.0.10)\n",
            "Requirement already satisfied: decorator in /usr/local/lib/python3.8/dist-packages (from ipython->ipython-autotime) (4.4.2)\n",
            "Requirement already satisfied: pexpect in /usr/local/lib/python3.8/dist-packages (from ipython->ipython-autotime) (4.8.0)\n",
            "Requirement already satisfied: jedi>=0.10 in /usr/local/lib/python3.8/dist-packages (from ipython->ipython-autotime) (0.18.2)\n",
            "Requirement already satisfied: traitlets>=4.2 in /usr/local/lib/python3.8/dist-packages (from ipython->ipython-autotime) (5.7.1)\n",
            "Requirement already satisfied: parso<0.9.0,>=0.8.0 in /usr/local/lib/python3.8/dist-packages (from jedi>=0.10->ipython->ipython-autotime) (0.8.3)\n",
            "Requirement already satisfied: six>=1.9.0 in /usr/local/lib/python3.8/dist-packages (from prompt-toolkit<2.1.0,>=2.0.0->ipython->ipython-autotime) (1.15.0)\n",
            "Requirement already satisfied: wcwidth in /usr/local/lib/python3.8/dist-packages (from prompt-toolkit<2.1.0,>=2.0.0->ipython->ipython-autotime) (0.2.5)\n",
            "Requirement already satisfied: ptyprocess>=0.5 in /usr/local/lib/python3.8/dist-packages (from pexpect->ipython->ipython-autotime) (0.7.0)\n",
            "\u001b[33mWARNING: Running pip as the 'root' user can result in broken permissions and conflicting behaviour with the system package manager. It is recommended to use a virtual environment instead: https://pip.pypa.io/warnings/venv\u001b[0m\u001b[33m\n",
            "\u001b[0m"
          ]
        }
      ]
    },
    {
      "cell_type": "code",
      "source": [
        "%load_ext autotime"
      ],
      "metadata": {
        "colab": {
          "base_uri": "https://localhost:8080/"
        },
        "id": "43tei3IpaxOR",
        "outputId": "be64aa03-f016-42d1-92ab-13326fc30e25"
      },
      "execution_count": null,
      "outputs": [
        {
          "output_type": "stream",
          "name": "stdout",
          "text": [
            "time: 319 µs (started: 2022-12-18 22:35:24 +00:00)\n"
          ]
        }
      ]
    },
    {
      "cell_type": "markdown",
      "source": [
        "# Imports"
      ],
      "metadata": {
        "id": "h627VWBUf2qr"
      }
    },
    {
      "cell_type": "code",
      "source": [
        "from typing import List\n",
        "import numpy as np\n",
        "from os import path\n",
        "from sys import stderr\n",
        "from dataclasses import dataclass\n",
        "from collections import namedtuple\n",
        "import oxpy\n",
        "#from oxDNA_analysis_tools.UTILS.oat_multiprocesser import oat_multiprocesser : TO get multiprocessor to work\n",
        "from oxDNA_analysis_tools.UTILS.data_structures import Monomer, TopInfo, TrajInfo\n",
        "from oxDNA_analysis_tools.UTILS.RyeReader import describe, strand_describe, get_input_parameter\n",
        "import pandas as pd\n",
        "import time\n",
        "\n",
        "# all functions required to read a configuration using the new RyeReader\n",
        "from oxDNA_analysis_tools.UTILS.RyeReader import describe, get_confs, inbox"
      ],
      "metadata": {
        "id": "UqE5jbsvfyox"
      },
      "execution_count": null,
      "outputs": []
    },
    {
      "cell_type": "code",
      "source": [
        "import os, fnmatch\n",
        "import glob\n",
        "\n",
        "def find(pattern, path):\n",
        "    result = []\n",
        "    for root, dirs, files in os.walk(path):\n",
        "        for name in files:\n",
        "            if fnmatch.fnmatch(name, pattern):\n",
        "                result.append(os.path.join(root, name))\n",
        "    return result\n",
        "\n",
        "parent_dir = '/content/drive/MyDrive/Kano Projects/02-Project Noodle Theory/05 - Shared Data/02-Simulations/CO'\n",
        "samples = glob.glob(f\"{parent_dir}*/\")\n",
        "\n",
        "path_df = pd.DataFrame(index = ['top_path', 'traj_path', 'input_path'])\n",
        "for s in samples:\n",
        "    top_path = find('*.top', s)[0]\n",
        "    traj_path = find('*.dat', s)[0]\n",
        "    input_path = find('*input*', s)[0]\n",
        "    path_df[s.split('/')[-2]] = [top_path, traj_path, input_path]\n",
        "path_df"
      ],
      "metadata": {
        "colab": {
          "base_uri": "https://localhost:8080/",
          "height": 260
        },
        "id": "3ZaJvs-xjO3U",
        "outputId": "f324c11e-13f2-481d-e6b6-23bbff0f89ee"
      },
      "execution_count": null,
      "outputs": [
        {
          "output_type": "execute_result",
          "data": {
            "text/plain": [
              "                                                       CO1-v1  \\\n",
              "top_path    /content/drive/MyDrive/Kano Projects/02-Projec...   \n",
              "traj_path   /content/drive/MyDrive/Kano Projects/02-Projec...   \n",
              "input_path  /content/drive/MyDrive/Kano Projects/02-Projec...   \n",
              "\n",
              "                                                      CO1-v10  \\\n",
              "top_path    /content/drive/MyDrive/Kano Projects/02-Projec...   \n",
              "traj_path   /content/drive/MyDrive/Kano Projects/02-Projec...   \n",
              "input_path  /content/drive/MyDrive/Kano Projects/02-Projec...   \n",
              "\n",
              "                                                      CO1-v11  \\\n",
              "top_path    /content/drive/MyDrive/Kano Projects/02-Projec...   \n",
              "traj_path   /content/drive/MyDrive/Kano Projects/02-Projec...   \n",
              "input_path  /content/drive/MyDrive/Kano Projects/02-Projec...   \n",
              "\n",
              "                                                      CO1-v12  \\\n",
              "top_path    /content/drive/MyDrive/Kano Projects/02-Projec...   \n",
              "traj_path   /content/drive/MyDrive/Kano Projects/02-Projec...   \n",
              "input_path  /content/drive/MyDrive/Kano Projects/02-Projec...   \n",
              "\n",
              "                                                       CO1-v8  \\\n",
              "top_path    /content/drive/MyDrive/Kano Projects/02-Projec...   \n",
              "traj_path   /content/drive/MyDrive/Kano Projects/02-Projec...   \n",
              "input_path  /content/drive/MyDrive/Kano Projects/02-Projec...   \n",
              "\n",
              "                                                       CO1-v9  \\\n",
              "top_path    /content/drive/MyDrive/Kano Projects/02-Projec...   \n",
              "traj_path   /content/drive/MyDrive/Kano Projects/02-Projec...   \n",
              "input_path  /content/drive/MyDrive/Kano Projects/02-Projec...   \n",
              "\n",
              "                                                      CO3-v10  \\\n",
              "top_path    /content/drive/MyDrive/Kano Projects/02-Projec...   \n",
              "traj_path   /content/drive/MyDrive/Kano Projects/02-Projec...   \n",
              "input_path  /content/drive/MyDrive/Kano Projects/02-Projec...   \n",
              "\n",
              "                                                      CO3-v11  \\\n",
              "top_path    /content/drive/MyDrive/Kano Projects/02-Projec...   \n",
              "traj_path   /content/drive/MyDrive/Kano Projects/02-Projec...   \n",
              "input_path  /content/drive/MyDrive/Kano Projects/02-Projec...   \n",
              "\n",
              "                                                      CO3-v12  \\\n",
              "top_path    /content/drive/MyDrive/Kano Projects/02-Projec...   \n",
              "traj_path   /content/drive/MyDrive/Kano Projects/02-Projec...   \n",
              "input_path  /content/drive/MyDrive/Kano Projects/02-Projec...   \n",
              "\n",
              "                                                       CO3-v8  \\\n",
              "top_path    /content/drive/MyDrive/Kano Projects/02-Projec...   \n",
              "traj_path   /content/drive/MyDrive/Kano Projects/02-Projec...   \n",
              "input_path  /content/drive/MyDrive/Kano Projects/02-Projec...   \n",
              "\n",
              "                                                       CO3-v9  \\\n",
              "top_path    /content/drive/MyDrive/Kano Projects/02-Projec...   \n",
              "traj_path   /content/drive/MyDrive/Kano Projects/02-Projec...   \n",
              "input_path  /content/drive/MyDrive/Kano Projects/02-Projec...   \n",
              "\n",
              "                                                      CO5-v10  \\\n",
              "top_path    /content/drive/MyDrive/Kano Projects/02-Projec...   \n",
              "traj_path   /content/drive/MyDrive/Kano Projects/02-Projec...   \n",
              "input_path  /content/drive/MyDrive/Kano Projects/02-Projec...   \n",
              "\n",
              "                                                      CO5-v11  \\\n",
              "top_path    /content/drive/MyDrive/Kano Projects/02-Projec...   \n",
              "traj_path   /content/drive/MyDrive/Kano Projects/02-Projec...   \n",
              "input_path  /content/drive/MyDrive/Kano Projects/02-Projec...   \n",
              "\n",
              "                                                      CO5-v12  \\\n",
              "top_path    /content/drive/MyDrive/Kano Projects/02-Projec...   \n",
              "traj_path   /content/drive/MyDrive/Kano Projects/02-Projec...   \n",
              "input_path  /content/drive/MyDrive/Kano Projects/02-Projec...   \n",
              "\n",
              "                                                       CO5-v8  \\\n",
              "top_path    /content/drive/MyDrive/Kano Projects/02-Projec...   \n",
              "traj_path   /content/drive/MyDrive/Kano Projects/02-Projec...   \n",
              "input_path  /content/drive/MyDrive/Kano Projects/02-Projec...   \n",
              "\n",
              "                                                       CO5-v9  \n",
              "top_path    /content/drive/MyDrive/Kano Projects/02-Projec...  \n",
              "traj_path   /content/drive/MyDrive/Kano Projects/02-Projec...  \n",
              "input_path  /content/drive/MyDrive/Kano Projects/02-Projec...  "
            ],
            "text/html": [
              "\n",
              "  <div id=\"df-338af710-78f1-48c5-b631-2339c5ac7b6e\">\n",
              "    <div class=\"colab-df-container\">\n",
              "      <div>\n",
              "<style scoped>\n",
              "    .dataframe tbody tr th:only-of-type {\n",
              "        vertical-align: middle;\n",
              "    }\n",
              "\n",
              "    .dataframe tbody tr th {\n",
              "        vertical-align: top;\n",
              "    }\n",
              "\n",
              "    .dataframe thead th {\n",
              "        text-align: right;\n",
              "    }\n",
              "</style>\n",
              "<table border=\"1\" class=\"dataframe\">\n",
              "  <thead>\n",
              "    <tr style=\"text-align: right;\">\n",
              "      <th></th>\n",
              "      <th>CO1-v1</th>\n",
              "      <th>CO1-v10</th>\n",
              "      <th>CO1-v11</th>\n",
              "      <th>CO1-v12</th>\n",
              "      <th>CO1-v8</th>\n",
              "      <th>CO1-v9</th>\n",
              "      <th>CO3-v10</th>\n",
              "      <th>CO3-v11</th>\n",
              "      <th>CO3-v12</th>\n",
              "      <th>CO3-v8</th>\n",
              "      <th>CO3-v9</th>\n",
              "      <th>CO5-v10</th>\n",
              "      <th>CO5-v11</th>\n",
              "      <th>CO5-v12</th>\n",
              "      <th>CO5-v8</th>\n",
              "      <th>CO5-v9</th>\n",
              "    </tr>\n",
              "  </thead>\n",
              "  <tbody>\n",
              "    <tr>\n",
              "      <th>top_path</th>\n",
              "      <td>/content/drive/MyDrive/Kano Projects/02-Projec...</td>\n",
              "      <td>/content/drive/MyDrive/Kano Projects/02-Projec...</td>\n",
              "      <td>/content/drive/MyDrive/Kano Projects/02-Projec...</td>\n",
              "      <td>/content/drive/MyDrive/Kano Projects/02-Projec...</td>\n",
              "      <td>/content/drive/MyDrive/Kano Projects/02-Projec...</td>\n",
              "      <td>/content/drive/MyDrive/Kano Projects/02-Projec...</td>\n",
              "      <td>/content/drive/MyDrive/Kano Projects/02-Projec...</td>\n",
              "      <td>/content/drive/MyDrive/Kano Projects/02-Projec...</td>\n",
              "      <td>/content/drive/MyDrive/Kano Projects/02-Projec...</td>\n",
              "      <td>/content/drive/MyDrive/Kano Projects/02-Projec...</td>\n",
              "      <td>/content/drive/MyDrive/Kano Projects/02-Projec...</td>\n",
              "      <td>/content/drive/MyDrive/Kano Projects/02-Projec...</td>\n",
              "      <td>/content/drive/MyDrive/Kano Projects/02-Projec...</td>\n",
              "      <td>/content/drive/MyDrive/Kano Projects/02-Projec...</td>\n",
              "      <td>/content/drive/MyDrive/Kano Projects/02-Projec...</td>\n",
              "      <td>/content/drive/MyDrive/Kano Projects/02-Projec...</td>\n",
              "    </tr>\n",
              "    <tr>\n",
              "      <th>traj_path</th>\n",
              "      <td>/content/drive/MyDrive/Kano Projects/02-Projec...</td>\n",
              "      <td>/content/drive/MyDrive/Kano Projects/02-Projec...</td>\n",
              "      <td>/content/drive/MyDrive/Kano Projects/02-Projec...</td>\n",
              "      <td>/content/drive/MyDrive/Kano Projects/02-Projec...</td>\n",
              "      <td>/content/drive/MyDrive/Kano Projects/02-Projec...</td>\n",
              "      <td>/content/drive/MyDrive/Kano Projects/02-Projec...</td>\n",
              "      <td>/content/drive/MyDrive/Kano Projects/02-Projec...</td>\n",
              "      <td>/content/drive/MyDrive/Kano Projects/02-Projec...</td>\n",
              "      <td>/content/drive/MyDrive/Kano Projects/02-Projec...</td>\n",
              "      <td>/content/drive/MyDrive/Kano Projects/02-Projec...</td>\n",
              "      <td>/content/drive/MyDrive/Kano Projects/02-Projec...</td>\n",
              "      <td>/content/drive/MyDrive/Kano Projects/02-Projec...</td>\n",
              "      <td>/content/drive/MyDrive/Kano Projects/02-Projec...</td>\n",
              "      <td>/content/drive/MyDrive/Kano Projects/02-Projec...</td>\n",
              "      <td>/content/drive/MyDrive/Kano Projects/02-Projec...</td>\n",
              "      <td>/content/drive/MyDrive/Kano Projects/02-Projec...</td>\n",
              "    </tr>\n",
              "    <tr>\n",
              "      <th>input_path</th>\n",
              "      <td>/content/drive/MyDrive/Kano Projects/02-Projec...</td>\n",
              "      <td>/content/drive/MyDrive/Kano Projects/02-Projec...</td>\n",
              "      <td>/content/drive/MyDrive/Kano Projects/02-Projec...</td>\n",
              "      <td>/content/drive/MyDrive/Kano Projects/02-Projec...</td>\n",
              "      <td>/content/drive/MyDrive/Kano Projects/02-Projec...</td>\n",
              "      <td>/content/drive/MyDrive/Kano Projects/02-Projec...</td>\n",
              "      <td>/content/drive/MyDrive/Kano Projects/02-Projec...</td>\n",
              "      <td>/content/drive/MyDrive/Kano Projects/02-Projec...</td>\n",
              "      <td>/content/drive/MyDrive/Kano Projects/02-Projec...</td>\n",
              "      <td>/content/drive/MyDrive/Kano Projects/02-Projec...</td>\n",
              "      <td>/content/drive/MyDrive/Kano Projects/02-Projec...</td>\n",
              "      <td>/content/drive/MyDrive/Kano Projects/02-Projec...</td>\n",
              "      <td>/content/drive/MyDrive/Kano Projects/02-Projec...</td>\n",
              "      <td>/content/drive/MyDrive/Kano Projects/02-Projec...</td>\n",
              "      <td>/content/drive/MyDrive/Kano Projects/02-Projec...</td>\n",
              "      <td>/content/drive/MyDrive/Kano Projects/02-Projec...</td>\n",
              "    </tr>\n",
              "  </tbody>\n",
              "</table>\n",
              "</div>\n",
              "      <button class=\"colab-df-convert\" onclick=\"convertToInteractive('df-338af710-78f1-48c5-b631-2339c5ac7b6e')\"\n",
              "              title=\"Convert this dataframe to an interactive table.\"\n",
              "              style=\"display:none;\">\n",
              "        \n",
              "  <svg xmlns=\"http://www.w3.org/2000/svg\" height=\"24px\"viewBox=\"0 0 24 24\"\n",
              "       width=\"24px\">\n",
              "    <path d=\"M0 0h24v24H0V0z\" fill=\"none\"/>\n",
              "    <path d=\"M18.56 5.44l.94 2.06.94-2.06 2.06-.94-2.06-.94-.94-2.06-.94 2.06-2.06.94zm-11 1L8.5 8.5l.94-2.06 2.06-.94-2.06-.94L8.5 2.5l-.94 2.06-2.06.94zm10 10l.94 2.06.94-2.06 2.06-.94-2.06-.94-.94-2.06-.94 2.06-2.06.94z\"/><path d=\"M17.41 7.96l-1.37-1.37c-.4-.4-.92-.59-1.43-.59-.52 0-1.04.2-1.43.59L10.3 9.45l-7.72 7.72c-.78.78-.78 2.05 0 2.83L4 21.41c.39.39.9.59 1.41.59.51 0 1.02-.2 1.41-.59l7.78-7.78 2.81-2.81c.8-.78.8-2.07 0-2.86zM5.41 20L4 18.59l7.72-7.72 1.47 1.35L5.41 20z\"/>\n",
              "  </svg>\n",
              "      </button>\n",
              "      \n",
              "  <style>\n",
              "    .colab-df-container {\n",
              "      display:flex;\n",
              "      flex-wrap:wrap;\n",
              "      gap: 12px;\n",
              "    }\n",
              "\n",
              "    .colab-df-convert {\n",
              "      background-color: #E8F0FE;\n",
              "      border: none;\n",
              "      border-radius: 50%;\n",
              "      cursor: pointer;\n",
              "      display: none;\n",
              "      fill: #1967D2;\n",
              "      height: 32px;\n",
              "      padding: 0 0 0 0;\n",
              "      width: 32px;\n",
              "    }\n",
              "\n",
              "    .colab-df-convert:hover {\n",
              "      background-color: #E2EBFA;\n",
              "      box-shadow: 0px 1px 2px rgba(60, 64, 67, 0.3), 0px 1px 3px 1px rgba(60, 64, 67, 0.15);\n",
              "      fill: #174EA6;\n",
              "    }\n",
              "\n",
              "    [theme=dark] .colab-df-convert {\n",
              "      background-color: #3B4455;\n",
              "      fill: #D2E3FC;\n",
              "    }\n",
              "\n",
              "    [theme=dark] .colab-df-convert:hover {\n",
              "      background-color: #434B5C;\n",
              "      box-shadow: 0px 1px 3px 1px rgba(0, 0, 0, 0.15);\n",
              "      filter: drop-shadow(0px 1px 2px rgba(0, 0, 0, 0.3));\n",
              "      fill: #FFFFFF;\n",
              "    }\n",
              "  </style>\n",
              "\n",
              "      <script>\n",
              "        const buttonEl =\n",
              "          document.querySelector('#df-338af710-78f1-48c5-b631-2339c5ac7b6e button.colab-df-convert');\n",
              "        buttonEl.style.display =\n",
              "          google.colab.kernel.accessAllowed ? 'block' : 'none';\n",
              "\n",
              "        async function convertToInteractive(key) {\n",
              "          const element = document.querySelector('#df-338af710-78f1-48c5-b631-2339c5ac7b6e');\n",
              "          const dataTable =\n",
              "            await google.colab.kernel.invokeFunction('convertToInteractive',\n",
              "                                                     [key], {});\n",
              "          if (!dataTable) return;\n",
              "\n",
              "          const docLinkHtml = 'Like what you see? Visit the ' +\n",
              "            '<a target=\"_blank\" href=https://colab.research.google.com/notebooks/data_table.ipynb>data table notebook</a>'\n",
              "            + ' to learn more about interactive tables.';\n",
              "          element.innerHTML = '';\n",
              "          dataTable['output_type'] = 'display_data';\n",
              "          await google.colab.output.renderOutput(dataTable, element);\n",
              "          const docLink = document.createElement('div');\n",
              "          docLink.innerHTML = docLinkHtml;\n",
              "          element.appendChild(docLink);\n",
              "        }\n",
              "      </script>\n",
              "    </div>\n",
              "  </div>\n",
              "  "
            ]
          },
          "metadata": {},
          "execution_count": 14
        }
      ]
    },
    {
      "cell_type": "code",
      "source": [
        "c = 'CO1-v8'\n",
        "top = path_df[c][0]\n",
        "traj = path_df[c][1]\n",
        "input_file = path_df[c][2]\n",
        "top_info, traj_info = describe(top, traj)"
      ],
      "metadata": {
        "id": "upCki7bzBk7C"
      },
      "execution_count": null,
      "outputs": []
    },
    {
      "cell_type": "code",
      "source": [
        "traj_info.nconfs"
      ],
      "metadata": {
        "colab": {
          "base_uri": "https://localhost:8080/"
        },
        "id": "7NnRirpoBxSn",
        "outputId": "29d66ff5-5286-45b2-f549-5fef911d8f62"
      },
      "execution_count": null,
      "outputs": [
        {
          "output_type": "execute_result",
          "data": {
            "text/plain": [
              "1"
            ]
          },
          "metadata": {},
          "execution_count": 20
        }
      ]
    },
    {
      "cell_type": "code",
      "source": [
        "RESULTS_PATH = '/content/drive/MyDrive/Kano Projects/02-Project Noodle Theory/05 - Shared Data/06-AnalysisResults/'\n",
        "for s in samples:\n",
        "  new_dir = RESULTS_PATH + s.split('/')[-2]\n",
        "  if not os.path.isdir(new_dir):\n",
        "    os.mkdir(new_dir)"
      ],
      "metadata": {
        "colab": {
          "base_uri": "https://localhost:8080/"
        },
        "id": "J6z7nMwZoWdh",
        "outputId": "c403f4f9-4c90-43af-e9f5-415f6e72ea46"
      },
      "execution_count": null,
      "outputs": [
        {
          "output_type": "stream",
          "name": "stdout",
          "text": [
            "CO1-v1\n",
            "CO1-v10\n",
            "CO1-v11\n",
            "CO1-v12\n",
            "CO1-v8\n",
            "CO1-v9\n",
            "CO3-v10\n",
            "CO3-v11\n",
            "CO3-v12\n",
            "CO3-v8\n",
            "CO3-v9\n",
            "CO5-v10\n",
            "CO5-v11\n",
            "CO5-v12\n",
            "CO5-v8\n",
            "CO5-v9\n",
            "time: 8.84 ms (started: 2022-12-15 16:40:38 +00:00)\n"
          ]
        }
      ]
    },
    {
      "cell_type": "markdown",
      "source": [
        "# **Define Analysis Functions**"
      ],
      "metadata": {
        "id": "rkKnhXtmf6Jp"
      }
    },
    {
      "cell_type": "markdown",
      "source": [
        "## Get all paired nucleotides"
      ],
      "metadata": {
        "id": "3HOwGB3IsXh9"
      }
    },
    {
      "cell_type": "code",
      "source": [
        "from operator import itemgetter\n",
        "from itertools import groupby\n",
        "\n",
        "def get_all_pairs(top, traj, input_file):\n",
        "  # RyeReader uses indexing allows for random access in the trajectory\n",
        "  top_info, traj_info = describe(top, traj)\n",
        "  sys, monomer = strand_describe(top)\n",
        "\n",
        "  # A compute context is a single variable (in this case a namedtuple, but could also be a dict or a dataclass)\n",
        "  # which contains the arguments needed for a parallelized function.\n",
        "  # We use this style to avoid having to pass variable numbers of arguments to the parallelizer.\n",
        "  ComputeContext = namedtuple(\"ComputeContext\",[\"traj_info\",\n",
        "                                                \"top_info\",\n",
        "                                                \"input_file\",\n",
        "                                                \"monomers\"])\n",
        "\n",
        "  ctx = ComputeContext(traj_info, top_info, input_file, monomer)\n",
        "\n",
        "  all_pairs = []\n",
        "  with oxpy.Context():\n",
        "      inp = oxpy.InputFile()\n",
        "      inp.init_from_filename(ctx.input_file)\n",
        "      inp[\"list_type\"] = \"cells\"\n",
        "      inp[\"trajectory_file\"] = ctx.traj_info.path\n",
        "      inp[\"topology\"] = ctx.top_info.path\n",
        "      inp[\"backend\"] = \"CPU\"\n",
        "      inp[\"backend_precision\"] = \"double\"\n",
        "      #inp[\"max_backbone_force\"] = \"1\"\n",
        "      inp[\"use_average_seq\"] = \"1\"\n",
        "      inp[\"analysis_data_output_1\"] = '{ \\n name = stdout \\n print_every = 1e10 \\n col_1 = { \\n id = my_obs \\n type = hb_list \\n } \\n }'\n",
        "\n",
        "      # if (not inp[\"use_average_seq\"] or inp.get_bool(\"use_average_seq\")) and \"RNA\" in inp[\"interaction_type\"]:\n",
        "      # print(\"WARNING: Sequence dependence not set for RNA model, wobble base pairs will be ignored\", file=stderr)\n",
        "\n",
        "      backend = oxpy.analysis.AnalysisBackend(inp)\n",
        "      \n",
        "      while backend.read_next_configuration():\n",
        "              pairs = backend.config_info().get_observable_by_id(\"my_obs\").get_output_string(backend.config_info().current_step).strip().split('\\n')\n",
        "              all_pairs.append(pairs)  # Store all paired nucleotides in all_pairs\n",
        "      return all_pairs"
      ],
      "metadata": {
        "colab": {
          "base_uri": "https://localhost:8080/"
        },
        "id": "kFcUtuvGa4pj",
        "outputId": "652d7f90-f307-46da-da0e-43aa286ce1ba"
      },
      "execution_count": null,
      "outputs": [
        {
          "output_type": "stream",
          "name": "stdout",
          "text": [
            "time: 2.8 ms (started: 2022-12-19 01:20:02 +00:00)\n"
          ]
        }
      ]
    },
    {
      "cell_type": "markdown",
      "source": [
        "# Create duplex dataframe"
      ],
      "metadata": {
        "id": "ZmM5PNWcgKm0"
      }
    },
    {
      "cell_type": "code",
      "source": [
        "def create_duplex_df(pairs):\n",
        "  tp = 0\n",
        "  rows = [] # rows for all duplex_df\n",
        "\n",
        "  for pairs in all_pairs:\n",
        "      temp = pairs[1:]\n",
        "      \n",
        "      # convert from list of strings to two columns in a dataframe\n",
        "      a = []\n",
        "      b = []\n",
        "      for p in temp:\n",
        "          p = p.split()\n",
        "          a.append(int(p[0]))\n",
        "          b.append(int(p[1]))\n",
        "\n",
        "      df = pd.DataFrame([a, b], index = ['a', 'b']).T\n",
        "      df = df.sort_values('a')\n",
        "      df.index = range(df.shape[0])\n",
        "      \n",
        "      # get start and stop row indexes of consecutive values in df['a']\n",
        "      data = df['a']\n",
        "      ranges = []\n",
        "      for k,g in groupby(enumerate(data),lambda x:x[0]-x[1]):\n",
        "          # if 0, returns index.\n",
        "          group = (map(itemgetter(0),g))\n",
        "          group = list(map(int,group))\n",
        "          ranges.append((group[0],group[-1]))\n",
        "      \n",
        "      # for each consecutive range for df['a'], split into consecutive range for df['b']\n",
        "      ranges_final = []\n",
        "      for r in ranges:\n",
        "          idx_1, idx_2 = r\n",
        "          lst = df['b'][idx_1: idx_2 + 1][::-1] # since b is decreasing, convert decreasing to increasing lst \n",
        "\n",
        "          for k,g in groupby(enumerate(lst),lambda x:x[0]-x[1]):\n",
        "              # if 0, returns index.\n",
        "              group = (map(itemgetter(0),g))\n",
        "              group = list(map(int,group))\n",
        "              # we map index back to that of the original indexes of df\n",
        "              ranges_final.append((idx_2 - group[-1], idx_2 - group[0]))\n",
        "\n",
        "      # sort by decreasing order for readability (once we convert to 5' to 3' it will be increasing)\n",
        "      ranges_final = sorted(ranges_final, key=lambda r: r[0], reverse=True)\n",
        "          \n",
        "      for r in ranges_final:\n",
        "          # only count duplexes with 3 consecutive pairs\n",
        "          if r[1]- r[0] > 1:\n",
        "              start_1 = df['a'][r[0]]\n",
        "              end_1 = df['a'][r[1]]\n",
        "              start_2 = df['b'][r[1]]\n",
        "              end_2 = df['b'][r[0]]\n",
        "              rows.append([tp, start_1, end_1, start_2, end_2])\n",
        "      \n",
        "      tp += 1\n",
        "\n",
        "  reverse_duplex_df = pd.DataFrame(rows, columns = ['time', 'start_1', 'end_1', 'start_2', 'end_2'])\n",
        "\n",
        "  duplex_df = reverse_duplex_df.copy()\n",
        "  seq_len = top_info.nbases\n",
        "  # remember oxDNA is 0-indexed\n",
        "  duplex_df['start_1'] = seq_len - duplex_df['end_2'] - 1\n",
        "  duplex_df['end_1'] = seq_len - duplex_df['start_2'] - 1\n",
        "  duplex_df['start_2'] = seq_len - duplex_df['end_1'] - 1\n",
        "  duplex_df['end_2'] = seq_len - duplex_df['start_1'] - 1\n",
        "  return duplex_df"
      ],
      "metadata": {
        "colab": {
          "base_uri": "https://localhost:8080/"
        },
        "id": "e46-s26CbLC0",
        "outputId": "2c7340d2-9f51-4396-ee6b-8809c1d47598"
      },
      "execution_count": null,
      "outputs": [
        {
          "output_type": "stream",
          "name": "stdout",
          "text": [
            "time: 4.15 ms (started: 2022-12-15 16:52:03 +00:00)\n"
          ]
        }
      ]
    },
    {
      "cell_type": "markdown",
      "source": [
        "# Calculate Distances"
      ],
      "metadata": {
        "id": "nWxPgq69Y7Zq"
      }
    },
    {
      "cell_type": "code",
      "source": [
        "from oxDNA_analysis_tools.distance import distance"
      ],
      "metadata": {
        "colab": {
          "base_uri": "https://localhost:8080/"
        },
        "id": "cBtWAJR0Y6hI",
        "outputId": "dfbfd39d-4fb7-41e0-9c6f-77107b65f3f3"
      },
      "execution_count": null,
      "outputs": [
        {
          "output_type": "stream",
          "name": "stdout",
          "text": [
            "time: 531 µs (started: 2022-12-18 23:14:02 +00:00)\n"
          ]
        }
      ]
    },
    {
      "cell_type": "code",
      "source": [
        "df = pd.read_excel(SEQUENCES_PATH, index_col = 0)"
      ],
      "metadata": {
        "colab": {
          "base_uri": "https://localhost:8080/"
        },
        "id": "WmO2vO5NbmHC",
        "outputId": "5db349bb-6e9d-42ff-cb6f-8894bada4532"
      },
      "execution_count": null,
      "outputs": [
        {
          "output_type": "stream",
          "name": "stdout",
          "text": [
            "time: 291 ms (started: 2022-12-18 23:03:31 +00:00)\n"
          ]
        }
      ]
    },
    {
      "cell_type": "code",
      "source": [
        "seq_df = df[df['Name'] == 'CO1-v1']\n"
      ],
      "metadata": {
        "colab": {
          "base_uri": "https://localhost:8080/"
        },
        "id": "-bQZO1xochJI",
        "outputId": "25c15835-1eb3-415a-82be-d32108adc822"
      },
      "execution_count": null,
      "outputs": [
        {
          "output_type": "stream",
          "name": "stdout",
          "text": [
            "time: 1.51 ms (started: 2022-12-18 23:02:40 +00:00)\n"
          ]
        }
      ]
    },
    {
      "cell_type": "code",
      "source": [
        "seq_df['5\\' HA'].isnull().values[0]"
      ],
      "metadata": {
        "colab": {
          "base_uri": "https://localhost:8080/"
        },
        "id": "RrOr_N4PdJbk",
        "outputId": "5d540e46-62f8-404a-8886-524ec64b275b"
      },
      "execution_count": null,
      "outputs": [
        {
          "output_type": "execute_result",
          "data": {
            "text/plain": [
              "True"
            ]
          },
          "metadata": {},
          "execution_count": 67
        },
        {
          "output_type": "stream",
          "name": "stdout",
          "text": [
            "time: 3.1 ms (started: 2022-12-18 23:06:11 +00:00)\n"
          ]
        }
      ]
    },
    {
      "cell_type": "code",
      "source": [
        "def get_distances(sim_name, top, traj, input_file, sequence_path):\n",
        "  # RyeReader uses indexing allows for random access in the trajectory\n",
        "  top_info, traj_info = describe(top, traj)\n",
        "  sys, monomer = strand_describe(top)\n",
        "  df = pd.read_excel(sequence_path, index_col = 0)\n",
        "  seq_df = df[df['Name'] == sim_name]\n",
        "\n",
        "  total_seq = seq_df['Total sequence (cssDNA or lssDNA)'].values[0].upper()\n",
        "  five_ha_seq = seq_df['5\\' HA'].values[0].upper()\n",
        "  three_ha_seq = seq_df['3\\' HA'].values[0].upper()\n",
        "  backbone_seq = seq_df['Backbone seq fragment'].values[0].upper()\n",
        "\n",
        "  # Get index in 5'-> 3' orientation since default is in 3' -> 5'\n",
        "  five_start = total_seq.find(five_ha_seq)\n",
        "  three_start = total_seq.find(three_ha_seq)\n",
        "  five_end = total_seq.find(five_ha_seq) + len(five_ha_seq) - 1\n",
        "  three_end = total_seq.find(three_ha_seq) + len(three_ha_seq) - 1\n",
        "  backbone_start = total_seq.find(backbone_seq)\n",
        "  backbone_end = total_seq.find(backbone_seq) + len(backbone_seq) - 1\n",
        "\n",
        "  seq_len = top_info.nbases\n",
        "  result = distance_2(traj_info, top_info, \n",
        "                    [five_end, five_start, five_start, three_start, backbone_start], \n",
        "                    [three_start, three_end, five_end, three_end, backbone_end], \n",
        "                    seq_len)\n",
        "  \n",
        "  return result\n",
        "\n",
        "# takes in 5' to 3' indexes\n",
        "def distance_2(traj_info, top_info, lst1, lst2, seq_len):\n",
        "    \n",
        "    # Convert 5'->3' index to 3'->5' for oxdna\n",
        "    for i in range(len(lst1)):\n",
        "        lst1[i] = seq_len - lst1[i] - 1\n",
        "    for i in range(len(lst2)):\n",
        "        lst2[i] = seq_len - lst2[i] - 1\n",
        "        \n",
        "    return distance([traj_info], [top_info], [lst2],[lst1])"
      ],
      "metadata": {
        "colab": {
          "base_uri": "https://localhost:8080/"
        },
        "id": "Tr9tz3TSZZZs",
        "outputId": "7bc500fe-ddcb-4991-c640-c0d1c0e4740a"
      },
      "execution_count": null,
      "outputs": [
        {
          "output_type": "stream",
          "name": "stdout",
          "text": [
            "time: 2.9 ms (started: 2022-12-18 23:14:05 +00:00)\n"
          ]
        }
      ]
    },
    {
      "cell_type": "markdown",
      "source": [
        "# Calculate number of times a nucleotide changes pairing partner"
      ],
      "metadata": {
        "id": "4k01nznG4tvn"
      }
    },
    {
      "cell_type": "code",
      "source": [
        "def get_num_pair_partners(pairs, seq_len):\n",
        "  # initialize pairing vectors\n",
        "  totals = np.zeros((seq_len))\n",
        "  past_pair = np.full((seq_len), -1)\n",
        "\n",
        "  for pairs_at_single_tp in pairs:\n",
        "      # initialize pairing vetor for current time point\n",
        "      curr_pair = np.full((seq_len), -1)\n",
        "      for p in pairs_at_single_tp[1:]:\n",
        "          idx1 = int(p.split(' ')[0])\n",
        "          idx2 = int(p.split(' ')[1])\n",
        "          curr_pair[idx1] = idx2\n",
        "          curr_pair[idx2] = idx1\n",
        "      # calculate if nucleotide changes pairing partner    \n",
        "      diffs = (past_pair != curr_pair).astype(int)\n",
        "      # update \n",
        "      totals = totals + diffs\n",
        "      past_pair = curr_pair\n",
        "\n",
        "  # Flip order so result is stored 5' -> 3'\n",
        "  return np.flip(totals)"
      ],
      "metadata": {
        "colab": {
          "base_uri": "https://localhost:8080/"
        },
        "id": "RnyZtJvR5Arq",
        "outputId": "58b1dae2-7d23-40e8-d1bc-468b340346a3"
      },
      "execution_count": null,
      "outputs": [
        {
          "output_type": "stream",
          "name": "stdout",
          "text": [
            "time: 1.5 ms (started: 2022-12-19 01:01:58 +00:00)\n"
          ]
        }
      ]
    },
    {
      "cell_type": "markdown",
      "source": [
        "# **Generate Analysis**"
      ],
      "metadata": {
        "id": "FQG3VWfasgmo"
      }
    },
    {
      "cell_type": "code",
      "source": [
        "RESULTS_PATH = '/content/drive/MyDrive/Kano Projects/02-Project Noodle Theory/05 - Shared Data/06-AnalysisResults/'\n",
        "SEQUENCES_PATH = '/content/drive/MyDrive/Kano Projects/02-Project Noodle Theory/05 - Shared Data/01-Sequences/Noodle-project-sequence-collection.xlsx'"
      ],
      "metadata": {
        "colab": {
          "base_uri": "https://localhost:8080/"
        },
        "id": "VEznkWe9unR2",
        "outputId": "9e5991d0-f060-4de7-974b-6c17f7d51615"
      },
      "execution_count": null,
      "outputs": [
        {
          "output_type": "stream",
          "name": "stdout",
          "text": [
            "time: 469 µs (started: 2022-12-18 23:14:10 +00:00)\n"
          ]
        }
      ]
    },
    {
      "cell_type": "code",
      "source": [
        "runtimes = []\n",
        "for c in path_df.columns:\n",
        "  print(c)\n",
        "  top = path_df[c][0]\n",
        "  traj = path_df[c][1]\n",
        "  input_file = path_df[c][2]\n",
        "\n",
        "  start_time = time.time()\n",
        "  #pairs = get_all_pairs(top, traj, input_file)\n",
        "  #df = create_duplex_df(pairs)\n",
        "  # runtimes.append(time.time() - start_time)\n",
        "\n",
        "  # df.to_csv(RESULTS_PATH + c + '/duplex_df.csv')"
      ],
      "metadata": {
        "colab": {
          "base_uri": "https://localhost:8080/"
        },
        "id": "lM8E4mo6ueiF",
        "outputId": "74fec876-5faa-4604-fb30-8920d4069445"
      },
      "execution_count": null,
      "outputs": [
        {
          "output_type": "stream",
          "name": "stdout",
          "text": [
            "CO1-v1\n",
            "CO1-v10\n",
            "CO1-v11\n",
            "CO1-v12\n",
            "CO1-v8\n",
            "CO1-v9\n",
            "CO3-v10\n",
            "CO3-v11\n",
            "CO3-v12\n",
            "CO3-v8\n",
            "CO3-v9\n",
            "CO5-v10\n",
            "CO5-v11\n",
            "CO5-v12\n",
            "CO5-v8\n",
            "CO5-v9\n",
            "time: 2.8 ms (started: 2022-12-19 01:03:51 +00:00)\n"
          ]
        }
      ]
    },
    {
      "cell_type": "markdown",
      "source": [
        "Number of times nucleotide changes pairs"
      ],
      "metadata": {
        "id": "DjjIjiC65R0W"
      }
    },
    {
      "cell_type": "code",
      "source": [
        "runtimes = []\n",
        "changes = []\n",
        "for c in path_df.columns:\n",
        "  print(c)\n",
        "  top = path_df[c][0]\n",
        "  traj = path_df[c][1]\n",
        "  input_file = path_df[c][2]\n",
        "  top_info, traj_info = describe(top, traj)\n",
        "  seq_len = top_info.nbases\n",
        "\n",
        "  start_time = time.time()\n",
        "  pairs = get_all_pairs(top, traj, input_file)\n",
        "  changes.append(get_num_pair_partners(pairs, seq_len))\n",
        "  runtimes.append(time.time() - start_time)\n"
      ],
      "metadata": {
        "colab": {
          "base_uri": "https://localhost:8080/"
        },
        "id": "cq8r9NXJ5UPA",
        "outputId": "e5b2f42b-5408-4a2e-d794-bac2f3b8e2ad"
      },
      "execution_count": null,
      "outputs": [
        {
          "output_type": "stream",
          "name": "stdout",
          "text": [
            "CO1-v1\n",
            "CO1-v10\n",
            "CO1-v11\n",
            "CO1-v12\n",
            "CO1-v8\n",
            "CO1-v9\n",
            "CO3-v10\n",
            "CO3-v11\n",
            "CO3-v12\n",
            "CO3-v8\n",
            "CO3-v9\n",
            "CO5-v10\n",
            "CO5-v11\n",
            "CO5-v12\n",
            "CO5-v8\n",
            "CO5-v9\n",
            "time: 15.4 s (started: 2022-12-19 01:03:55 +00:00)\n"
          ]
        }
      ]
    },
    {
      "cell_type": "code",
      "source": [
        "c = 'CO1-v8'\n",
        "top = path_df[c][0]\n",
        "traj = path_df[c][1]\n",
        "input_file = path_df[c][2]\n",
        "\n",
        "top_info, traj_info = describe(top, traj)\n",
        "seq_len = top_info.nbases\n",
        "pairs = get_all_pairs(top, traj, input_file)\n",
        "\n",
        "\n",
        "# initialize pairing vectors\n",
        "totals = np.zeros((seq_len))\n",
        "past_pair = np.full((seq_len), -1)\n",
        "\n",
        "for pairs_at_single_tp in pairs:\n",
        "  # initialize pairing vetor for current time point\n",
        "  curr_pair = np.full((seq_len), -1)\n",
        "  for p in pairs_at_single_tp[1:]:\n",
        "      idx1 = int(p.split(' ')[0])\n",
        "      idx2 = int(p.split(' ')[1])\n",
        "      curr_pair[idx1] = idx2\n",
        "      curr_pair[idx2] = idx1\n",
        "  # calculate if nucleotide changes pairing partner    \n",
        "  diffs = (past_pair != curr_pair).astype(int)\n",
        "  # update \n",
        "  print(diffs)\n",
        "  totals = totals + diffs\n",
        "  past_pair = curr_pair"
      ],
      "metadata": {
        "colab": {
          "base_uri": "https://localhost:8080/"
        },
        "id": "kdvB1Ln97EzB",
        "outputId": "d172b513-f3f8-4ce9-e75e-ad076910269b"
      },
      "execution_count": null,
      "outputs": [
        {
          "output_type": "stream",
          "name": "stdout",
          "text": [
            "[1 0 0 ... 1 1 1]\n",
            "time: 44.8 ms (started: 2022-12-19 01:16:52 +00:00)\n"
          ]
        }
      ]
    },
    {
      "cell_type": "markdown",
      "source": [
        "Distances"
      ],
      "metadata": {
        "id": "diJrW9Ta5Ubu"
      }
    },
    {
      "cell_type": "code",
      "source": [
        "c = 'CO1-v8'\n",
        "top = path_df[c][0]\n",
        "traj = path_df[c][1]\n",
        "input_file = path_df[c][2]\n",
        "\n",
        "results = get_distances(c, top, traj, input_file, SEQUENCES_PATH)"
      ],
      "metadata": {
        "id": "UU5oUpNn6bEq",
        "outputId": "ef9cce34-b676-4a50-da60-9682ddbbdd10",
        "colab": {
          "base_uri": "https://localhost:8080/"
        }
      },
      "execution_count": null,
      "outputs": [
        {
          "output_type": "stream",
          "name": "stderr",
          "text": [
            "INFO: Working on trajectory: /content/drive/MyDrive/Kano Projects/02-Project Noodle Theory/05 - Shared Data/02-Simulations/CO1-v8/CO1-v8_e.dat\n"
          ]
        },
        {
          "output_type": "stream",
          "name": "stdout",
          "text": [
            "Starting up 1 processes for 1 chunks\n",
            "All spawned, waiting for results\n",
            "finished 1/1\rtime: 229 ms (started: 2022-12-18 23:14:23 +00:00)\n"
          ]
        },
        {
          "output_type": "stream",
          "name": "stderr",
          "text": [
            "INFO: Processing in blocks of 20 configurations\n",
            "INFO: You can modify this number by running oat config -n <number>, which will be persistent between analyses.\n"
          ]
        }
      ]
    },
    {
      "cell_type": "code",
      "source": [
        "top"
      ],
      "metadata": {
        "colab": {
          "base_uri": "https://localhost:8080/",
          "height": 35
        },
        "id": "etZfk2IqbLRl",
        "outputId": "5c9915ec-93d7-415b-f3d8-c797ef647c63"
      },
      "execution_count": null,
      "outputs": [
        {
          "output_type": "execute_result",
          "data": {
            "text/plain": [
              "'/content/drive/MyDrive/Kano Projects/02-Project Noodle Theory/05 - Shared Data/02-Simulations/CO1-v8/CO1-v8.top'"
            ],
            "application/vnd.google.colaboratory.intrinsic+json": {
              "type": "string"
            }
          },
          "metadata": {},
          "execution_count": 84
        },
        {
          "output_type": "stream",
          "name": "stdout",
          "text": [
            "time: 2.63 ms (started: 2022-12-18 23:16:15 +00:00)\n"
          ]
        }
      ]
    },
    {
      "cell_type": "code",
      "source": [
        "# runtimes_df = pd.DataFrame(runtimes, index = path_df.columns, columns = ['Create duplex df'])"
      ],
      "metadata": {
        "colab": {
          "base_uri": "https://localhost:8080/"
        },
        "id": "F19tJh6GyfrX",
        "outputId": "e89cf207-4b66-4bcc-a82d-b17d4fa4438c"
      },
      "execution_count": null,
      "outputs": [
        {
          "output_type": "stream",
          "name": "stdout",
          "text": [
            "time: 1.17 ms (started: 2022-12-15 17:51:27 +00:00)\n"
          ]
        }
      ]
    },
    {
      "cell_type": "code",
      "source": [
        "# runtimes_df.to_csv(RESULTS_PATH + 'runtimes.csv')"
      ],
      "metadata": {
        "colab": {
          "base_uri": "https://localhost:8080/"
        },
        "id": "yAcdR8n7hZIH",
        "outputId": "2c9140e5-a7f5-410d-96d6-8cd7a4a6cd6e"
      },
      "execution_count": null,
      "outputs": [
        {
          "output_type": "stream",
          "name": "stdout",
          "text": [
            "time: 6.15 ms (started: 2022-12-15 17:51:53 +00:00)\n"
          ]
        }
      ]
    },
    {
      "cell_type": "code",
      "source": [
        "import oxDNA_analysis_tools \n",
        "oxDNA_analysis_tools.__version__"
      ],
      "metadata": {
        "colab": {
          "base_uri": "https://localhost:8080/",
          "height": 35
        },
        "id": "ZVsE6MNah96A",
        "outputId": "26330ee0-e16e-4cff-cf01-64cbfbeca6b6"
      },
      "execution_count": null,
      "outputs": [
        {
          "output_type": "execute_result",
          "data": {
            "text/plain": [
              "'2.0.6'"
            ],
            "application/vnd.google.colaboratory.intrinsic+json": {
              "type": "string"
            }
          },
          "metadata": {},
          "execution_count": 93
        },
        {
          "output_type": "stream",
          "name": "stdout",
          "text": [
            "time: 2.97 ms (started: 2022-12-18 23:19:42 +00:00)\n"
          ]
        }
      ]
    },
    {
      "cell_type": "code",
      "source": [
        "import sys\n",
        "sys.version"
      ],
      "metadata": {
        "colab": {
          "base_uri": "https://localhost:8080/",
          "height": 35
        },
        "id": "6X8U735eiTZk",
        "outputId": "07b72b0f-81a2-4ca8-d996-7610cb3884b9"
      },
      "execution_count": null,
      "outputs": [
        {
          "output_type": "execute_result",
          "data": {
            "text/plain": [
              "'3.8.16 (default, Dec  7 2022, 01:12:13) \\n[GCC 7.5.0]'"
            ],
            "application/vnd.google.colaboratory.intrinsic+json": {
              "type": "string"
            }
          },
          "metadata": {},
          "execution_count": 95
        },
        {
          "output_type": "stream",
          "name": "stdout",
          "text": [
            "time: 2.61 ms (started: 2022-12-18 23:25:57 +00:00)\n"
          ]
        }
      ]
    },
    {
      "cell_type": "code",
      "source": [],
      "metadata": {
        "id": "WM4z0UDxjvBu"
      },
      "execution_count": null,
      "outputs": []
    }
  ]
}