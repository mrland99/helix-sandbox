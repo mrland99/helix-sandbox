{
 "cells": [
  {
   "cell_type": "code",
   "execution_count": 1,
   "metadata": {},
   "outputs": [],
   "source": [
    "import Bio"
   ]
  },
  {
   "cell_type": "code",
   "execution_count": 2,
   "metadata": {},
   "outputs": [
    {
     "name": "stdout",
     "output_type": "stream",
     "text": [
      "Max Score: 23\n",
      "Number of Optimal Alignments: 1\n",
      "An Optimal Alignment: \n",
      "LYPRTEINSTRIN\n",
      "LY---EINSTEIN\n"
     ]
    }
   ],
   "source": [
    "from Bio.SubsMat import MatrixInfo\n",
    "from LocalAlignment import localAlignment\n",
    "\n",
    "delta = MatrixInfo.pam250\n",
    "v = \"MEANLYPRTEINSTRING\"\n",
    "w = \"PLEASANTLYEINSTEIN\"\n",
    "\n",
    "maxScore, n, v, w = localAlignment(v, w, delta, -5)\n",
    "print(\"Max Score: \" + str(maxScore))\n",
    "print(\"Number of Optimal Alignments: \" + str(n))\n",
    "print(\"An Optimal Alignment: \")\n",
    "print(v)\n",
    "print(w)"
   ]
  }
 ],
 "metadata": {
  "kernelspec": {
   "display_name": "Python 3",
   "language": "python",
   "name": "python3"
  },
  "language_info": {
   "codemirror_mode": {
    "name": "ipython",
    "version": 3
   },
   "file_extension": ".py",
   "mimetype": "text/x-python",
   "name": "python",
   "nbconvert_exporter": "python",
   "pygments_lexer": "ipython3",
   "version": "3.7.1"
  }
 },
 "nbformat": 4,
 "nbformat_minor": 2
}
