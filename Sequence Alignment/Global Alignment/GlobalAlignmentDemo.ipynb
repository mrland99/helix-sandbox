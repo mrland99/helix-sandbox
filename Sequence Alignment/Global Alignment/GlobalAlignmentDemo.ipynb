{
 "cells": [
  {
   "cell_type": "code",
   "execution_count": 1,
   "metadata": {},
   "outputs": [],
   "source": [
    "import Bio"
   ]
  },
  {
   "cell_type": "code",
   "execution_count": 2,
   "metadata": {},
   "outputs": [
    {
     "name": "stdout",
     "output_type": "stream",
     "text": [
      "8\n",
      "PLEASANTLY\n",
      "-MEA--N-LY\n"
     ]
    }
   ],
   "source": [
    "from Bio.SubsMat import MatrixInfo\n",
    "from GlobalAlignment import globalAlignment\n",
    "\n",
    "delta = MatrixInfo.blosum62\n",
    "s1 = \"PLEASANTLY\"\n",
    "s2 = \"MEANLY\"\n",
    "\n",
    "maxScore, v, w = globalAlignment(s1, s2, delta, -5)\n",
    "print(maxScore)\n",
    "print(v)\n",
    "print(w)"
   ]
  }
 ],
 "metadata": {
  "kernelspec": {
   "display_name": "Python 3",
   "language": "python",
   "name": "python3"
  },
  "language_info": {
   "codemirror_mode": {
    "name": "ipython",
    "version": 3
   },
   "file_extension": ".py",
   "mimetype": "text/x-python",
   "name": "python",
   "nbconvert_exporter": "python",
   "pygments_lexer": "ipython3",
   "version": "3.7.1"
  }
 },
 "nbformat": 4,
 "nbformat_minor": 2
}
