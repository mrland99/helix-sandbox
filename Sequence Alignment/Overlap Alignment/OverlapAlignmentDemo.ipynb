{
 "cells": [
  {
   "cell_type": "code",
   "execution_count": 1,
   "metadata": {},
   "outputs": [],
   "source": [
    "import Bio"
   ]
  },
  {
   "cell_type": "code",
   "execution_count": 2,
   "metadata": {},
   "outputs": [
    {
     "name": "stdout",
     "output_type": "stream",
     "text": [
      "Max Score: 3\n",
      "Number of Optimal Alignments: 1\n",
      "An optimal Alignment: \n",
      "ACG\n",
      "ACG\n"
     ]
    }
   ],
   "source": [
    "from OverlapAlignment import overlapAlignment\n",
    "delta = {('A', 'A'): 1, ('A', 'C'): -2, ('A', 'G'): -2, ('A', 'T'): -2,\n",
    "         ('C', 'C'): 1, ('C', 'G'): -2, ('C', 'T'): -2,\n",
    "         ('G', 'G'): 1, ('G', 'T'): -2,\n",
    "         ('T', 'T'): 1}\n",
    "v = \"ACGCCCCT\"\n",
    "w = \"TACG\"\n",
    "\n",
    "maxScore, n, v, w = overlapAlignment(v, w, delta, -2)\n",
    "print(\"Max Score: \" + str(maxScore))\n",
    "print(\"Number of Optimal Alignments: \" + str(n))\n",
    "print(\"Optimal Alignment: \")\n",
    "print(v)\n",
    "print(w)"
   ]
  },
  {
   "cell_type": "code",
   "execution_count": null,
   "metadata": {},
   "outputs": [],
   "source": []
  }
 ],
 "metadata": {
  "kernelspec": {
   "display_name": "Python 3",
   "language": "python",
   "name": "python3"
  },
  "language_info": {
   "codemirror_mode": {
    "name": "ipython",
    "version": 3
   },
   "file_extension": ".py",
   "mimetype": "text/x-python",
   "name": "python",
   "nbconvert_exporter": "python",
   "pygments_lexer": "ipython3",
   "version": "3.7.1"
  }
 },
 "nbformat": 4,
 "nbformat_minor": 2
}
