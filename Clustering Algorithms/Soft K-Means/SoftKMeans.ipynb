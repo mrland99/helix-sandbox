{
 "cells": [
  {
   "cell_type": "code",
   "execution_count": 1,
   "metadata": {},
   "outputs": [],
   "source": [
    "import numpy as np\n",
    "from softKMeans import softCluster"
   ]
  },
  {
   "cell_type": "code",
   "execution_count": 2,
   "metadata": {},
   "outputs": [],
   "source": [
    "f = open('soft_example1.txt')\n",
    "firstline = f.readline().strip().split(' ')\n",
    "k = int(firstline[0])\n",
    "m = int(firstline[1])\n",
    "B = float(f.readline().strip())\n",
    "a = np.loadtxt('soft_example1.txt', skiprows=2)\n",
    "points = a[0:len(a)]\n",
    "centroids = points[0:k]"
   ]
  },
  {
   "cell_type": "code",
   "execution_count": 3,
   "metadata": {},
   "outputs": [],
   "source": [
    "ans = softCluster(B, centroids, points)\n",
    "ans = np.round(ans, decimals = 3)"
   ]
  },
  {
   "cell_type": "code",
   "execution_count": 4,
   "metadata": {},
   "outputs": [
    {
     "name": "stdout",
     "output_type": "stream",
     "text": [
      "1.662 2.623 \n",
      "1.075 1.148 \n"
     ]
    }
   ],
   "source": [
    "# Convert answer to Readable format\n",
    "for i in range(k):\n",
    "    for j in range(m):\n",
    "        print(str(ans[i][j]), end =\" \")\n",
    "    print(\"\")"
   ]
  }
 ],
 "metadata": {
  "kernelspec": {
   "display_name": "Python 3",
   "language": "python",
   "name": "python3"
  },
  "language_info": {
   "codemirror_mode": {
    "name": "ipython",
    "version": 3
   },
   "file_extension": ".py",
   "mimetype": "text/x-python",
   "name": "python",
   "nbconvert_exporter": "python",
   "pygments_lexer": "ipython3",
   "version": "3.7.1"
  }
 },
 "nbformat": 4,
 "nbformat_minor": 2
}
