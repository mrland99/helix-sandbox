{
 "cells": [
  {
   "cell_type": "code",
   "execution_count": 1,
   "metadata": {},
   "outputs": [],
   "source": [
    "import numpy as np\n",
    "from lloydAlgorithm import LloydAlgorithm, clusterPoints, updateCentroids"
   ]
  },
  {
   "cell_type": "code",
   "execution_count": 2,
   "metadata": {},
   "outputs": [],
   "source": [
    "f = open('example1.txt')\n",
    "firstline = f.readline().strip().split(' ')\n",
    "k = int(firstline[0])\n",
    "m = int(firstline[1])\n",
    "a = np.loadtxt('example1.txt', skiprows=1)\n",
    "points = a[0:len(a)]\n",
    "centroids = points[0:k]"
   ]
  },
  {
   "cell_type": "code",
   "execution_count": 3,
   "metadata": {},
   "outputs": [],
   "source": [
    "ans = LloydAlgorithm(k, m, points)\n",
    "ans = np.round(ans, decimals = 3)"
   ]
  },
  {
   "cell_type": "code",
   "execution_count": 4,
   "metadata": {},
   "outputs": [
    {
     "name": "stdout",
     "output_type": "stream",
     "text": [
      "4.597 5.016 14.016 \n",
      "4.248 4.508 4.537 \n",
      "16.686 5.671 13.42 \n",
      "6.981 15.96 19.362 \n",
      "6.136 16.762 5.278 \n",
      "14.057 6.872 3.78 \n"
     ]
    }
   ],
   "source": [
    "# Convert answer to Readable format\n",
    "for i in range(k):\n",
    "    for j in range(m):\n",
    "        print(str(ans[i][j]), end =\" \")\n",
    "    print(\"\")"
   ]
  }
 ],
 "metadata": {
  "kernelspec": {
   "display_name": "Python 3",
   "language": "python",
   "name": "python3"
  },
  "language_info": {
   "codemirror_mode": {
    "name": "ipython",
    "version": 3
   },
   "file_extension": ".py",
   "mimetype": "text/x-python",
   "name": "python",
   "nbconvert_exporter": "python",
   "pygments_lexer": "ipython3",
   "version": "3.7.1"
  }
 },
 "nbformat": 4,
 "nbformat_minor": 2
}
